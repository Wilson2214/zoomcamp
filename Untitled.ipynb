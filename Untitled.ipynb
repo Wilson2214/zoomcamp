{
 "cells": [
  {
   "cell_type": "code",
   "execution_count": 9,
   "id": "345507b3",
   "metadata": {},
   "outputs": [],
   "source": [
    "import pandas as pd\n",
    "import numpy as np\n",
    "import datetime"
   ]
  },
  {
   "cell_type": "code",
   "execution_count": 2,
   "id": "e8cb8bd3",
   "metadata": {},
   "outputs": [],
   "source": [
    "base_url = 'https://d37ci6vzurychx.cloudfront.net/trip-data/green_tripdata_2022-'\n",
    "li = []\n",
    "months = ['01', '02', '03', '04', '05', '06', '07', '08', '09', '10', '11', '12']\n",
    "    \n",
    "for fn in months:\n",
    "    url = base_url + fn + '.parquet'\n",
    "\n",
    "    df = pd.read_parquet(url)\n",
    "    \n",
    "    li.append(df)"
   ]
  },
  {
   "cell_type": "code",
   "execution_count": 17,
   "id": "44d939f7",
   "metadata": {},
   "outputs": [],
   "source": [
    "df = pd.concat(li,axis=0,ignore_index=True)"
   ]
  },
  {
   "cell_type": "code",
   "execution_count": 25,
   "id": "7b057cde",
   "metadata": {},
   "outputs": [],
   "source": [
    "df.lpep_pickup_datetime = df.lpep_pickup_datetime.values.astype('datetime64[ms]')\n",
    "df.lpep_dropoff_datetime = df.lpep_dropoff_datetime.values.astype('datetime64[ms]')"
   ]
  },
  {
   "cell_type": "code",
   "execution_count": 26,
   "id": "f9883a3c",
   "metadata": {},
   "outputs": [
    {
     "data": {
      "text/plain": [
       "VendorID                          int64\n",
       "lpep_pickup_datetime     datetime64[ms]\n",
       "lpep_dropoff_datetime    datetime64[ms]\n",
       "store_and_fwd_flag               object\n",
       "RatecodeID                      float64\n",
       "PULocationID                      int64\n",
       "DOLocationID                      int64\n",
       "passenger_count                 float64\n",
       "trip_distance                   float64\n",
       "fare_amount                     float64\n",
       "extra                           float64\n",
       "mta_tax                         float64\n",
       "tip_amount                      float64\n",
       "tolls_amount                    float64\n",
       "ehail_fee                        object\n",
       "improvement_surcharge           float64\n",
       "total_amount                    float64\n",
       "payment_type                    float64\n",
       "trip_type                       float64\n",
       "congestion_surcharge            float64\n",
       "dtype: object"
      ]
     },
     "execution_count": 26,
     "metadata": {},
     "output_type": "execute_result"
    }
   ],
   "source": [
    "df.dtypes"
   ]
  },
  {
   "cell_type": "code",
   "execution_count": 20,
   "id": "2a9ad32c",
   "metadata": {},
   "outputs": [
    {
     "data": {
      "text/plain": [
       "<bound method NDFrame.head of         VendorID lpep_pickup_datetime lpep_dropoff_datetime  \\\n",
       "0              2  2022-01-01 00:14:21   2022-01-01 00:15:33   \n",
       "1              1  2022-01-01 00:20:55   2022-01-01 00:29:38   \n",
       "2              1  2022-01-01 00:57:02   2022-01-01 01:13:14   \n",
       "3              2  2022-01-01 00:07:42   2022-01-01 00:15:57   \n",
       "4              2  2022-01-01 00:07:50   2022-01-01 00:28:52   \n",
       "...          ...                  ...                   ...   \n",
       "840397         2  2022-12-31 23:33:00   2022-12-31 23:49:00   \n",
       "840398         2  2022-12-31 23:29:00   2023-01-01 00:01:00   \n",
       "840399         2  2022-12-31 23:05:00   2022-12-31 23:12:00   \n",
       "840400         2  2022-12-31 23:03:00   2022-12-31 23:18:00   \n",
       "840401         2  2022-12-31 23:16:00   2022-12-31 23:25:00   \n",
       "\n",
       "       store_and_fwd_flag  RatecodeID  PULocationID  DOLocationID  \\\n",
       "0                       N         1.0            42            42   \n",
       "1                       N         1.0           116            41   \n",
       "2                       N         1.0            41           140   \n",
       "3                       N         1.0           181           181   \n",
       "4                       N         1.0            33           170   \n",
       "...                   ...         ...           ...           ...   \n",
       "840397               None         NaN            33            79   \n",
       "840398               None         NaN            49           197   \n",
       "840399               None         NaN            54           181   \n",
       "840400               None         NaN             7           129   \n",
       "840401               None         NaN            17            61   \n",
       "\n",
       "        passenger_count  trip_distance  fare_amount  extra  mta_tax  \\\n",
       "0                   1.0           0.44         3.50   0.50      0.5   \n",
       "1                   1.0           2.10         9.50   0.50      0.5   \n",
       "2                   1.0           3.70        14.50   3.25      0.5   \n",
       "3                   1.0           1.69         8.00   0.50      0.5   \n",
       "4                   1.0           6.26        22.00   0.50      0.5   \n",
       "...                 ...            ...          ...    ...      ...   \n",
       "840397              NaN           3.53        20.72   0.00      0.0   \n",
       "840398              NaN           8.94        39.01   0.00      0.0   \n",
       "840399              NaN           1.27        12.11   0.00      0.0   \n",
       "840400              NaN           2.23        15.51   0.00      0.0   \n",
       "840401              NaN           1.74        12.32   0.00      0.0   \n",
       "\n",
       "        tip_amount  tolls_amount ehail_fee  improvement_surcharge  \\\n",
       "0             0.00           0.0      None                    0.3   \n",
       "1             0.00           0.0      None                    0.3   \n",
       "2             4.60           0.0      None                    0.3   \n",
       "3             0.00           0.0      None                    0.3   \n",
       "4             5.21           0.0      None                    0.3   \n",
       "...            ...           ...       ...                    ...   \n",
       "840397        4.89           0.0      None                    1.0   \n",
       "840398        8.00           0.0      None                    1.0   \n",
       "840399        2.62           0.0      None                    1.0   \n",
       "840400        3.30           0.0      None                    1.0   \n",
       "840401        2.66           0.0      None                    1.0   \n",
       "\n",
       "        total_amount  payment_type  trip_type  congestion_surcharge  \n",
       "0               4.80           2.0        1.0                  0.00  \n",
       "1              10.80           2.0        1.0                  0.00  \n",
       "2              23.15           1.0        1.0                  2.75  \n",
       "3               9.30           2.0        1.0                  0.00  \n",
       "4              31.26           1.0        1.0                  2.75  \n",
       "...              ...           ...        ...                   ...  \n",
       "840397         29.36           NaN        NaN                   NaN  \n",
       "840398         48.01           NaN        NaN                   NaN  \n",
       "840399         15.73           NaN        NaN                   NaN  \n",
       "840400         19.81           NaN        NaN                   NaN  \n",
       "840401         15.98           NaN        NaN                   NaN  \n",
       "\n",
       "[840402 rows x 20 columns]>"
      ]
     },
     "execution_count": 20,
     "metadata": {},
     "output_type": "execute_result"
    }
   ],
   "source": [
    "df.head"
   ]
  },
  {
   "cell_type": "code",
   "execution_count": 2,
   "id": "9f780ab7",
   "metadata": {},
   "outputs": [],
   "source": [
    "df = pd.read_parquet('~/Downloads/2022-green-taxi.parquet')"
   ]
  },
  {
   "cell_type": "code",
   "execution_count": 8,
   "id": "3d052641",
   "metadata": {},
   "outputs": [
    {
     "data": {
      "text/html": [
       "<div>\n",
       "<style scoped>\n",
       "    .dataframe tbody tr th:only-of-type {\n",
       "        vertical-align: middle;\n",
       "    }\n",
       "\n",
       "    .dataframe tbody tr th {\n",
       "        vertical-align: top;\n",
       "    }\n",
       "\n",
       "    .dataframe thead th {\n",
       "        text-align: right;\n",
       "    }\n",
       "</style>\n",
       "<table border=\"1\" class=\"dataframe\">\n",
       "  <thead>\n",
       "    <tr style=\"text-align: right;\">\n",
       "      <th></th>\n",
       "      <th>VendorID</th>\n",
       "      <th>lpep_pickup_datetime</th>\n",
       "      <th>lpep_dropoff_datetime</th>\n",
       "      <th>store_and_fwd_flag</th>\n",
       "      <th>RatecodeID</th>\n",
       "      <th>PULocationID</th>\n",
       "      <th>DOLocationID</th>\n",
       "      <th>passenger_count</th>\n",
       "      <th>trip_distance</th>\n",
       "      <th>fare_amount</th>\n",
       "      <th>extra</th>\n",
       "      <th>mta_tax</th>\n",
       "      <th>tip_amount</th>\n",
       "      <th>tolls_amount</th>\n",
       "      <th>ehail_fee</th>\n",
       "      <th>improvement_surcharge</th>\n",
       "      <th>total_amount</th>\n",
       "      <th>payment_type</th>\n",
       "      <th>trip_type</th>\n",
       "      <th>congestion_surcharge</th>\n",
       "    </tr>\n",
       "  </thead>\n",
       "  <tbody>\n",
       "  </tbody>\n",
       "</table>\n",
       "</div>"
      ],
      "text/plain": [
       "Empty DataFrame\n",
       "Columns: [VendorID, lpep_pickup_datetime, lpep_dropoff_datetime, store_and_fwd_flag, RatecodeID, PULocationID, DOLocationID, passenger_count, trip_distance, fare_amount, extra, mta_tax, tip_amount, tolls_amount, ehail_fee, improvement_surcharge, total_amount, payment_type, trip_type, congestion_surcharge]\n",
       "Index: []"
      ]
     },
     "execution_count": 8,
     "metadata": {},
     "output_type": "execute_result"
    }
   ],
   "source": [
    "df['lpep_dropoff_datetime'] = df['lpep_dropoff_datetime'].astype(str)\n",
    "\n",
    "rslt_df = df[df['lpep_dropoff_datetime'] == '1640996133000000000']\n",
    "rslt_df"
   ]
  },
  {
   "cell_type": "code",
   "execution_count": 7,
   "id": "943605a3",
   "metadata": {},
   "outputs": [
    {
     "data": {
      "text/plain": [
       "<bound method NDFrame.head of         VendorID lpep_pickup_datetime lpep_dropoff_datetime  \\\n",
       "0              2  2022-01-01 00:14:21   2022-01-01 00:15:33   \n",
       "1              1  2022-01-01 00:20:55   2022-01-01 00:29:38   \n",
       "2              1  2022-01-01 00:57:02   2022-01-01 01:13:14   \n",
       "3              2  2022-01-01 00:07:42   2022-01-01 00:15:57   \n",
       "4              2  2022-01-01 00:07:50   2022-01-01 00:28:52   \n",
       "...          ...                  ...                   ...   \n",
       "840397         2  2022-12-31 23:33:00   2022-12-31 23:49:00   \n",
       "840398         2  2022-12-31 23:29:00   2023-01-01 00:01:00   \n",
       "840399         2  2022-12-31 23:05:00   2022-12-31 23:12:00   \n",
       "840400         2  2022-12-31 23:03:00   2022-12-31 23:18:00   \n",
       "840401         2  2022-12-31 23:16:00   2022-12-31 23:25:00   \n",
       "\n",
       "       store_and_fwd_flag  RatecodeID  PULocationID  DOLocationID  \\\n",
       "0                       N         1.0            42            42   \n",
       "1                       N         1.0           116            41   \n",
       "2                       N         1.0            41           140   \n",
       "3                       N         1.0           181           181   \n",
       "4                       N         1.0            33           170   \n",
       "...                   ...         ...           ...           ...   \n",
       "840397               None         NaN            33            79   \n",
       "840398               None         NaN            49           197   \n",
       "840399               None         NaN            54           181   \n",
       "840400               None         NaN             7           129   \n",
       "840401               None         NaN            17            61   \n",
       "\n",
       "        passenger_count  trip_distance  fare_amount  extra  mta_tax  \\\n",
       "0                   1.0           0.44         3.50   0.50      0.5   \n",
       "1                   1.0           2.10         9.50   0.50      0.5   \n",
       "2                   1.0           3.70        14.50   3.25      0.5   \n",
       "3                   1.0           1.69         8.00   0.50      0.5   \n",
       "4                   1.0           6.26        22.00   0.50      0.5   \n",
       "...                 ...            ...          ...    ...      ...   \n",
       "840397              NaN           3.53        20.72   0.00      0.0   \n",
       "840398              NaN           8.94        39.01   0.00      0.0   \n",
       "840399              NaN           1.27        12.11   0.00      0.0   \n",
       "840400              NaN           2.23        15.51   0.00      0.0   \n",
       "840401              NaN           1.74        12.32   0.00      0.0   \n",
       "\n",
       "        tip_amount  tolls_amount ehail_fee  improvement_surcharge  \\\n",
       "0             0.00           0.0      None                    0.3   \n",
       "1             0.00           0.0      None                    0.3   \n",
       "2             4.60           0.0      None                    0.3   \n",
       "3             0.00           0.0      None                    0.3   \n",
       "4             5.21           0.0      None                    0.3   \n",
       "...            ...           ...       ...                    ...   \n",
       "840397        4.89           0.0      None                    1.0   \n",
       "840398        8.00           0.0      None                    1.0   \n",
       "840399        2.62           0.0      None                    1.0   \n",
       "840400        3.30           0.0      None                    1.0   \n",
       "840401        2.66           0.0      None                    1.0   \n",
       "\n",
       "        total_amount  payment_type  trip_type  congestion_surcharge  \n",
       "0               4.80           2.0        1.0                  0.00  \n",
       "1              10.80           2.0        1.0                  0.00  \n",
       "2              23.15           1.0        1.0                  2.75  \n",
       "3               9.30           2.0        1.0                  0.00  \n",
       "4              31.26           1.0        1.0                  2.75  \n",
       "...              ...           ...        ...                   ...  \n",
       "840397         29.36           NaN        NaN                   NaN  \n",
       "840398         48.01           NaN        NaN                   NaN  \n",
       "840399         15.73           NaN        NaN                   NaN  \n",
       "840400         19.81           NaN        NaN                   NaN  \n",
       "840401         15.98           NaN        NaN                   NaN  \n",
       "\n",
       "[840402 rows x 20 columns]>"
      ]
     },
     "execution_count": 7,
     "metadata": {},
     "output_type": "execute_result"
    }
   ],
   "source": [
    "df.head"
   ]
  },
  {
   "cell_type": "code",
   "execution_count": 13,
   "id": "7f383048",
   "metadata": {},
   "outputs": [
    {
     "data": {
      "text/plain": [
       "<pyarrow._parquet.ParquetSchema object at 0x126c2f5c0>\n",
       "required group field_id=-1 schema {\n",
       "  optional int64 field_id=-1 VendorID;\n",
       "  optional int64 field_id=-1 lpep_pickup_datetime (Timestamp(isAdjustedToUTC=false, timeUnit=microseconds, is_from_converted_type=false, force_set_converted_type=false));\n",
       "  optional int64 field_id=-1 lpep_dropoff_datetime (Timestamp(isAdjustedToUTC=false, timeUnit=microseconds, is_from_converted_type=false, force_set_converted_type=false));\n",
       "  optional binary field_id=-1 store_and_fwd_flag (String);\n",
       "  optional double field_id=-1 RatecodeID;\n",
       "  optional int64 field_id=-1 PULocationID;\n",
       "  optional int64 field_id=-1 DOLocationID;\n",
       "  optional double field_id=-1 passenger_count;\n",
       "  optional double field_id=-1 trip_distance;\n",
       "  optional double field_id=-1 fare_amount;\n",
       "  optional double field_id=-1 extra;\n",
       "  optional double field_id=-1 mta_tax;\n",
       "  optional double field_id=-1 tip_amount;\n",
       "  optional double field_id=-1 tolls_amount;\n",
       "  optional int32 field_id=-1 ehail_fee (Null);\n",
       "  optional double field_id=-1 improvement_surcharge;\n",
       "  optional double field_id=-1 total_amount;\n",
       "  optional double field_id=-1 payment_type;\n",
       "  optional double field_id=-1 trip_type;\n",
       "  optional double field_id=-1 congestion_surcharge;\n",
       "}"
      ]
     },
     "execution_count": 13,
     "metadata": {},
     "output_type": "execute_result"
    }
   ],
   "source": [
    "from pyarrow.parquet import ParquetFile\n",
    "# Source is either the filename or an Arrow file handle (which could be on HDFS)\n",
    "#ParquetFile('/Users/davewilson/Downloads/green_tripdata_2022-01.parquet').metadata\n",
    "ParquetFile('/Users/davewilson/Downloads/green_tripdata_2022-01.parquet').schema"
   ]
  },
  {
   "cell_type": "code",
   "execution_count": 14,
   "id": "32e31c94",
   "metadata": {},
   "outputs": [
    {
     "data": {
      "text/plain": [
       "<pyarrow._parquet.ParquetSchema object at 0x126ac2100>\n",
       "required group field_id=-1 schema {\n",
       "  optional int64 field_id=-1 VendorID;\n",
       "  optional int64 field_id=-1 lpep_pickup_datetime (Timestamp(isAdjustedToUTC=false, timeUnit=nanoseconds, is_from_converted_type=false, force_set_converted_type=false));\n",
       "  optional int64 field_id=-1 lpep_dropoff_datetime (Timestamp(isAdjustedToUTC=false, timeUnit=nanoseconds, is_from_converted_type=false, force_set_converted_type=false));\n",
       "  optional binary field_id=-1 store_and_fwd_flag (String);\n",
       "  optional double field_id=-1 RatecodeID;\n",
       "  optional int64 field_id=-1 PULocationID;\n",
       "  optional int64 field_id=-1 DOLocationID;\n",
       "  optional double field_id=-1 passenger_count;\n",
       "  optional double field_id=-1 trip_distance;\n",
       "  optional double field_id=-1 fare_amount;\n",
       "  optional double field_id=-1 extra;\n",
       "  optional double field_id=-1 mta_tax;\n",
       "  optional double field_id=-1 tip_amount;\n",
       "  optional double field_id=-1 tolls_amount;\n",
       "  optional int32 field_id=-1 ehail_fee (Null);\n",
       "  optional double field_id=-1 improvement_surcharge;\n",
       "  optional double field_id=-1 total_amount;\n",
       "  optional double field_id=-1 payment_type;\n",
       "  optional double field_id=-1 trip_type;\n",
       "  optional double field_id=-1 congestion_surcharge;\n",
       "}"
      ]
     },
     "execution_count": 14,
     "metadata": {},
     "output_type": "execute_result"
    }
   ],
   "source": [
    "ParquetFile('/Users/davewilson/Downloads/2022-green-taxi.parquet').schema"
   ]
  },
  {
   "cell_type": "code",
   "execution_count": 34,
   "id": "af0f5e60",
   "metadata": {},
   "outputs": [
    {
     "ename": "ArrowInvalid",
     "evalue": "Unrecognized filesystem type in URI: https://d37ci6vzurychx.cloudfront.net/trip-data/green_tripdata_2022-01.parquet",
     "output_type": "error",
     "traceback": [
      "\u001b[0;31m---------------------------------------------------------------------------\u001b[0m",
      "\u001b[0;31mArrowInvalid\u001b[0m                              Traceback (most recent call last)",
      "Cell \u001b[0;32mIn[34], line 5\u001b[0m\n\u001b[1;32m      2\u001b[0m \u001b[38;5;28;01mimport\u001b[39;00m \u001b[38;5;21;01mpyarrow\u001b[39;00m\u001b[38;5;21;01m.\u001b[39;00m\u001b[38;5;21;01mparquet\u001b[39;00m \u001b[38;5;28;01mas\u001b[39;00m \u001b[38;5;21;01mpq\u001b[39;00m\n\u001b[1;32m      3\u001b[0m \u001b[38;5;28;01mfrom\u001b[39;00m \u001b[38;5;21;01mpyarrow\u001b[39;00m \u001b[38;5;28;01mimport\u001b[39;00m fs\n\u001b[0;32m----> 5\u001b[0m s3, path \u001b[38;5;241m=\u001b[39m \u001b[43mfs\u001b[49m\u001b[38;5;241;43m.\u001b[39;49m\u001b[43mFileSystem\u001b[49m\u001b[38;5;241;43m.\u001b[39;49m\u001b[43mfrom_uri\u001b[49m\u001b[43m(\u001b[49m\u001b[38;5;124;43m\"\u001b[39;49m\u001b[38;5;124;43mhttps://d37ci6vzurychx.cloudfront.net/trip-data/green_tripdata_2022-01.parquet\u001b[39;49m\u001b[38;5;124;43m\"\u001b[39;49m\u001b[43m)\u001b[49m\n\u001b[1;32m      7\u001b[0m \u001b[38;5;66;03m#path = fs.FileSystem.from_uri('')\u001b[39;00m\n\u001b[1;32m      8\u001b[0m \u001b[38;5;66;03m#table = pq.read_table(path)\u001b[39;00m\n\u001b[1;32m      9\u001b[0m \u001b[38;5;66;03m#df = pq.read_parquet('https://d37ci6vzurychx.cloudfront.net/trip-data/green_tripdata_2022-01.parquet')\u001b[39;00m\n",
      "File \u001b[0;32m~/Documents/zoomcamp/zoomcamp_venv/lib/python3.11/site-packages/pyarrow/_fs.pyx:471\u001b[0m, in \u001b[0;36mpyarrow._fs.FileSystem.from_uri\u001b[0;34m()\u001b[0m\n",
      "File \u001b[0;32m~/Documents/zoomcamp/zoomcamp_venv/lib/python3.11/site-packages/pyarrow/error.pxi:154\u001b[0m, in \u001b[0;36mpyarrow.lib.pyarrow_internal_check_status\u001b[0;34m()\u001b[0m\n",
      "File \u001b[0;32m~/Documents/zoomcamp/zoomcamp_venv/lib/python3.11/site-packages/pyarrow/error.pxi:91\u001b[0m, in \u001b[0;36mpyarrow.lib.check_status\u001b[0;34m()\u001b[0m\n",
      "\u001b[0;31mArrowInvalid\u001b[0m: Unrecognized filesystem type in URI: https://d37ci6vzurychx.cloudfront.net/trip-data/green_tripdata_2022-01.parquet"
     ]
    }
   ],
   "source": [
    "import pyarrow as pa\n",
    "import pyarrow.parquet as pq\n",
    "from pyarrow import fs\n",
    "\n",
    "s3, path = fs.FileSystem.from_uri(\"https://d37ci6vzurychx.cloudfront.net/trip-data/green_tripdata_2022-01.parquet\")\n",
    "\n",
    "#path = fs.FileSystem.from_uri('')\n",
    "#table = pq.read_table(path)\n",
    "#df = pq.read_parquet('https://d37ci6vzurychx.cloudfront.net/trip-data/green_tripdata_2022-01.parquet')"
   ]
  },
  {
   "cell_type": "code",
   "execution_count": null,
   "id": "4faa401d",
   "metadata": {},
   "outputs": [],
   "source": []
  }
 ],
 "metadata": {
  "kernelspec": {
   "display_name": "zoomcamp_env",
   "language": "python",
   "name": "zoomcamp_env"
  },
  "language_info": {
   "codemirror_mode": {
    "name": "ipython",
    "version": 3
   },
   "file_extension": ".py",
   "mimetype": "text/x-python",
   "name": "python",
   "nbconvert_exporter": "python",
   "pygments_lexer": "ipython3",
   "version": "3.11.2"
  }
 },
 "nbformat": 4,
 "nbformat_minor": 5
}
