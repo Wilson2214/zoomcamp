{
 "cells": [
  {
   "cell_type": "markdown",
   "metadata": {
    "id": "mrTFv5nPClXh"
   },
   "source": [
    "# **Homework**: Data talks club data engineering zoomcamp Data loading workshop\n",
    "\n",
    "Hello folks, let's practice what we learned - Loading data with the best practices of data engineering.\n",
    "\n",
    "Here are the exercises we will do\n",
    "\n",
    "\n"
   ]
  },
  {
   "cell_type": "markdown",
   "metadata": {
    "id": "wLF4iXf-NR7t"
   },
   "source": [
    "# 1. Use a generator\n",
    "\n",
    "Remember the concept of generator? Let's practice using them to futher our understanding of how they work.\n",
    "\n",
    "Let's define a generator and then run it as practice.\n",
    "\n",
    "**Answer the following questions:**\n",
    "\n",
    "- **Question 1: What is the sum of the outputs of the generator for limit = 5?**\n",
    "- **Question 2: What is the 13th number yielded**\n",
    "\n",
    "I suggest practicing these questions without GPT as the purpose is to further your learning."
   ]
  },
  {
   "cell_type": "code",
   "execution_count": 7,
   "metadata": {
    "colab": {
     "base_uri": "https://localhost:8080/"
    },
    "id": "wLng-bDJN4jf",
    "outputId": "547683cb-5f56-4815-a903-d0d9578eb1f9"
   },
   "outputs": [
    {
     "name": "stdout",
     "output_type": "stream",
     "text": [
      "1.0\n",
      "1.4142135623730951\n",
      "1.7320508075688772\n",
      "2.0\n",
      "2.23606797749979\n",
      "8.382332347441762\n"
     ]
    }
   ],
   "source": [
    "def square_root_generator(limit):\n",
    "    n = 1\n",
    "    while n <= limit:\n",
    "        yield n ** 0.5\n",
    "        n += 1\n",
    "\n",
    "# Question 1\n",
    "limit = 5\n",
    "generator = square_root_generator(limit)\n",
    "\n",
    "vals = []\n",
    "\n",
    "for sqrt_value in generator:\n",
    "    vals.append(sqrt_value)\n",
    "    print(sqrt_value)\n",
    "    \n",
    "print(sum(vals))"
   ]
  },
  {
   "cell_type": "code",
   "execution_count": 15,
   "metadata": {},
   "outputs": [
    {
     "name": "stdout",
     "output_type": "stream",
     "text": [
      "3.605551275463989\n"
     ]
    }
   ],
   "source": [
    "# Question 2\n",
    "limit = 13\n",
    "generator = square_root_generator(limit)\n",
    "\n",
    "vals = []\n",
    "\n",
    "for sqrt_value in generator:\n",
    "    vals.append(sqrt_value)\n",
    "\n",
    "print(vals[12]) # index 12 is 13th item"
   ]
  },
  {
   "cell_type": "markdown",
   "metadata": {
    "id": "xbe3q55zN43j"
   },
   "source": []
  },
  {
   "cell_type": "markdown",
   "metadata": {
    "id": "vjWhILzGJMpK"
   },
   "source": [
    "# 2. Append a generator to a table with existing data\n",
    "\n",
    "\n",
    "Below you have 2 generators. You will be tasked to load them to duckdb and answer some questions from the data\n",
    "\n",
    "1. Load the first generator and calculate the sum of ages of all people. Make sure to only load it once.\n",
    "2. Append the second generator to the same table as the first.\n",
    "3. **After correctly appending the data, calculate the sum of all ages of people.**\n",
    "\n",
    "\n"
   ]
  },
  {
   "cell_type": "code",
   "execution_count": 16,
   "metadata": {
    "colab": {
     "base_uri": "https://localhost:8080/"
    },
    "id": "2MoaQcdLBEk6",
    "outputId": "d2b93dc1-d83f-44ea-aeff-fdf51d75f7aa"
   },
   "outputs": [
    {
     "name": "stdout",
     "output_type": "stream",
     "text": [
      "{'ID': 1, 'Name': 'Person_1', 'Age': 26, 'City': 'City_A'}\n",
      "{'ID': 2, 'Name': 'Person_2', 'Age': 27, 'City': 'City_A'}\n",
      "{'ID': 3, 'Name': 'Person_3', 'Age': 28, 'City': 'City_A'}\n",
      "{'ID': 4, 'Name': 'Person_4', 'Age': 29, 'City': 'City_A'}\n",
      "{'ID': 5, 'Name': 'Person_5', 'Age': 30, 'City': 'City_A'}\n",
      "{'ID': 3, 'Name': 'Person_3', 'Age': 33, 'City': 'City_B', 'Occupation': 'Job_3'}\n",
      "{'ID': 4, 'Name': 'Person_4', 'Age': 34, 'City': 'City_B', 'Occupation': 'Job_4'}\n",
      "{'ID': 5, 'Name': 'Person_5', 'Age': 35, 'City': 'City_B', 'Occupation': 'Job_5'}\n",
      "{'ID': 6, 'Name': 'Person_6', 'Age': 36, 'City': 'City_B', 'Occupation': 'Job_6'}\n",
      "{'ID': 7, 'Name': 'Person_7', 'Age': 37, 'City': 'City_B', 'Occupation': 'Job_7'}\n",
      "{'ID': 8, 'Name': 'Person_8', 'Age': 38, 'City': 'City_B', 'Occupation': 'Job_8'}\n"
     ]
    }
   ],
   "source": [
    "def people_1():\n",
    "    for i in range(1, 6):\n",
    "        yield {\"ID\": i, \"Name\": f\"Person_{i}\", \"Age\": 25 + i, \"City\": \"City_A\"}\n",
    "\n",
    "for person in people_1():\n",
    "    print(person)\n",
    "\n",
    "\n",
    "def people_2():\n",
    "    for i in range(3, 9):\n",
    "        yield {\"ID\": i, \"Name\": f\"Person_{i}\", \"Age\": 30 + i, \"City\": \"City_B\", \"Occupation\": f\"Job_{i}\"}\n",
    "\n",
    "\n",
    "for person in people_2():\n",
    "    print(person)\n"
   ]
  },
  {
   "cell_type": "code",
   "execution_count": 29,
   "metadata": {},
   "outputs": [
    {
     "name": "stdout",
     "output_type": "stream",
     "text": [
      "Pipeline dlt_ipykernel_launcher load step completed in 0.28 seconds\n",
      "1 load package(s) were loaded to destination duckdb and into dataset people\n",
      "The duckdb destination used duckdb:////Users/davewilson/Documents/zoomcamp/dlt workshop/dlt_ipykernel_launcher.duckdb location to store data\n",
      "Load package 1707156696.659091 is LOADED and contains no failed jobs\n"
     ]
    }
   ],
   "source": [
    "import dlt\n",
    "import duckdb\n",
    "\n",
    "# Define the table in duckdb\n",
    "generator_pipeline = dlt.pipeline(destination='duckdb', dataset_name='people')\n",
    "\n",
    "# Load people 1 generator\n",
    "info = generator_pipeline.run(people_1(),\n",
    "                              table_name=\"people_records\",\n",
    "                              write_disposition=\"merge\")\n",
    "\n",
    "print(info)"
   ]
  },
  {
   "cell_type": "code",
   "execution_count": 30,
   "metadata": {},
   "outputs": [
    {
     "data": {
      "text/html": [
       "<div>\n",
       "<style scoped>\n",
       "    .dataframe tbody tr th:only-of-type {\n",
       "        vertical-align: middle;\n",
       "    }\n",
       "\n",
       "    .dataframe tbody tr th {\n",
       "        vertical-align: top;\n",
       "    }\n",
       "\n",
       "    .dataframe thead th {\n",
       "        text-align: right;\n",
       "    }\n",
       "</style>\n",
       "<table border=\"1\" class=\"dataframe\">\n",
       "  <thead>\n",
       "    <tr style=\"text-align: right;\">\n",
       "      <th></th>\n",
       "      <th>Total Age</th>\n",
       "    </tr>\n",
       "  </thead>\n",
       "  <tbody>\n",
       "    <tr>\n",
       "      <th>0</th>\n",
       "      <td>140.0</td>\n",
       "    </tr>\n",
       "  </tbody>\n",
       "</table>\n",
       "</div>"
      ],
      "text/plain": [
       "   Total Age\n",
       "0      140.0"
      ]
     },
     "metadata": {},
     "output_type": "display_data"
    }
   ],
   "source": [
    "conn = duckdb.connect(f\"{generator_pipeline.pipeline_name}.duckdb\")\n",
    "\n",
    "people_tab = conn.sql(\"SELECT SUM(age) as 'Total Age' FROM people.people_records\").df()\n",
    "display(people_tab)"
   ]
  },
  {
   "cell_type": "code",
   "execution_count": 31,
   "metadata": {},
   "outputs": [
    {
     "name": "stdout",
     "output_type": "stream",
     "text": [
      "Pipeline dlt_ipykernel_launcher load step completed in 0.18 seconds\n",
      "1 load package(s) were loaded to destination duckdb and into dataset people\n",
      "The duckdb destination used duckdb:////Users/davewilson/Documents/zoomcamp/dlt workshop/dlt_ipykernel_launcher.duckdb location to store data\n",
      "Load package 1707156706.195604 is LOADED and contains no failed jobs\n"
     ]
    }
   ],
   "source": [
    "# Append with people 2 generator\n",
    "info = generator_pipeline.run(people_2(),\n",
    "                              table_name=\"people_records\",\n",
    "                              write_disposition=\"append\")\n",
    "\n",
    "print(info)"
   ]
  },
  {
   "cell_type": "code",
   "execution_count": 33,
   "metadata": {},
   "outputs": [
    {
     "data": {
      "text/html": [
       "<div>\n",
       "<style scoped>\n",
       "    .dataframe tbody tr th:only-of-type {\n",
       "        vertical-align: middle;\n",
       "    }\n",
       "\n",
       "    .dataframe tbody tr th {\n",
       "        vertical-align: top;\n",
       "    }\n",
       "\n",
       "    .dataframe thead th {\n",
       "        text-align: right;\n",
       "    }\n",
       "</style>\n",
       "<table border=\"1\" class=\"dataframe\">\n",
       "  <thead>\n",
       "    <tr style=\"text-align: right;\">\n",
       "      <th></th>\n",
       "      <th>Total Age</th>\n",
       "    </tr>\n",
       "  </thead>\n",
       "  <tbody>\n",
       "    <tr>\n",
       "      <th>0</th>\n",
       "      <td>353.0</td>\n",
       "    </tr>\n",
       "  </tbody>\n",
       "</table>\n",
       "</div>"
      ],
      "text/plain": [
       "   Total Age\n",
       "0      353.0"
      ]
     },
     "metadata": {},
     "output_type": "display_data"
    }
   ],
   "source": [
    "conn = duckdb.connect(f\"{generator_pipeline.pipeline_name}.duckdb\")\n",
    "\n",
    "people_tab = conn.sql(\"SELECT SUM(age) as 'Total Age' FROM people.people_records\").df()\n",
    "display(people_tab)"
   ]
  },
  {
   "cell_type": "markdown",
   "metadata": {
    "id": "vtdTIm4fvQCN"
   },
   "source": []
  },
  {
   "cell_type": "markdown",
   "metadata": {
    "id": "pY4cFAWOSwN1"
   },
   "source": [
    "# 3. Merge a generator\n",
    "\n",
    "Re-use the generators from Exercise 2.\n",
    "\n",
    "A table's primary key needs to be created from the start, so load your data to a new table with primary key ID.\n",
    "\n",
    "Load your first generator first, and then load the second one with merge. Since they have overlapping IDs, some of the records from the first load should be replaced by the ones from the second load.\n",
    "\n",
    "After loading, you should have a total of 8 records, and ID 3 should have age 33.\n",
    "\n",
    "Question: **Calculate the sum of ages of all the people loaded as described above.**\n"
   ]
  },
  {
   "cell_type": "markdown",
   "metadata": {
    "id": "kKB2GTB9oVjr"
   },
   "source": [
    "# Solution: First make sure that the following modules are installed:"
   ]
  },
  {
   "cell_type": "code",
   "execution_count": null,
   "metadata": {
    "id": "xTVvtyqrfVNq"
   },
   "outputs": [],
   "source": [
    "#Install the dependencies\n",
    "%%capture\n",
    "!pip install dlt[duckdb]"
   ]
  },
  {
   "cell_type": "code",
   "execution_count": 37,
   "metadata": {
    "id": "a2-PRBAkGC2K"
   },
   "outputs": [
    {
     "data": {
      "text/html": [
       "<div>\n",
       "<style scoped>\n",
       "    .dataframe tbody tr th:only-of-type {\n",
       "        vertical-align: middle;\n",
       "    }\n",
       "\n",
       "    .dataframe tbody tr th {\n",
       "        vertical-align: top;\n",
       "    }\n",
       "\n",
       "    .dataframe thead th {\n",
       "        text-align: right;\n",
       "    }\n",
       "</style>\n",
       "<table border=\"1\" class=\"dataframe\">\n",
       "  <thead>\n",
       "    <tr style=\"text-align: right;\">\n",
       "      <th></th>\n",
       "      <th>Total Age</th>\n",
       "    </tr>\n",
       "  </thead>\n",
       "  <tbody>\n",
       "    <tr>\n",
       "      <th>0</th>\n",
       "      <td>266.0</td>\n",
       "    </tr>\n",
       "  </tbody>\n",
       "</table>\n",
       "</div>"
      ],
      "text/plain": [
       "   Total Age\n",
       "0      266.0"
      ]
     },
     "metadata": {},
     "output_type": "display_data"
    }
   ],
   "source": [
    "import dlt\n",
    "import duckdb\n",
    "\n",
    "# Define the table in duckdb\n",
    "generator_pipeline2 = dlt.pipeline(destination='duckdb', dataset_name='people2')\n",
    "\n",
    "# Load people 1 generator\n",
    "info = generator_pipeline2.run(people_1(),\n",
    "                              table_name=\"people_records2\",\n",
    "                              write_disposition=\"merge\",\n",
    "                              primary_key=\"ID\")\n",
    "\n",
    "# Merge with people 2 generator\n",
    "info = generator_pipeline2.run(people_2(),\n",
    "                              table_name=\"people_records2\",\n",
    "                              write_disposition=\"merge\",\n",
    "                              primary_key=\"ID\")\n",
    "\n",
    "conn = duckdb.connect(f\"{generator_pipeline2.pipeline_name}.duckdb\")\n",
    "\n",
    "# confirm we have 8 records and id 3 is age 33\n",
    "people_tab2 = conn.sql(\"SELECT * FROM people2.people_records2\").df() #SUM(age) as 'Total Age' \n",
    "\n",
    "people_tab2 = conn.sql(\"SELECT SUM(age) as 'Total Age' FROM people2.people_records2\").df()\n",
    "display(people_tab2)"
   ]
  },
  {
   "cell_type": "markdown",
   "metadata": {
    "id": "PoTJu4kbGG0z"
   },
   "source": [
    "Questions? difficulties? We are here to help.\n",
    "- DTC data engineering course channel: https://datatalks-club.slack.com/archives/C01FABYF2RG\n",
    "- dlt's DTC cohort channel: https://dlthub-community.slack.com/archives/C06GAEX2VNX"
   ]
  }
 ],
 "metadata": {
  "colab": {
   "provenance": []
  },
  "kernelspec": {
   "display_name": "zoomcamp_env",
   "language": "python",
   "name": "zoomcamp_env"
  },
  "language_info": {
   "codemirror_mode": {
    "name": "ipython",
    "version": 3
   },
   "file_extension": ".py",
   "mimetype": "text/x-python",
   "name": "python",
   "nbconvert_exporter": "python",
   "pygments_lexer": "ipython3",
   "version": "3.11.2"
  }
 },
 "nbformat": 4,
 "nbformat_minor": 1
}
